from huggingface_hub import snapshot_download
import torch
from transformers import AutoTokenizer, AutoModelForCausalLM

# 1️⃣ Download the model (⚠️ this will likely exceed Binder limits)
model_repo = "QuantStack/Wan2.2-T2V-A14B-GGUF"

print("⬇️ Downloading model, this might take a while...")
model_path = snapshot_download(repo_id=model_repo)
print(f"✅ Model downloaded to: {model_path}")

# 2️⃣ Load model to CPU (⚠️ likely to crash due to RAM)
print("🧠 Loading model to CPU...")
model = AutoModelForCausalLM.from_pretrained(model_path, device_map="cpu")

tokenizer = AutoTokenizer.from_pretrained(model_path)

# 3️⃣ Run small test
text = "Once upon a time in India,"
inputs = tokenizer(text, return_tensors="pt")

print("🚀 Running inference (this may fail on Binder)...")
outputs = model.generate(**inputs, max_new_tokens=20)
print("🗣️ Output:", tokenizer.decode(outputs[0]))
