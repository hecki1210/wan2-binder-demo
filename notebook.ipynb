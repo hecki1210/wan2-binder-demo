{
  "nbformat": 4,
  "nbformat_minor": 0,
  "metadata": {
    "colab": {
      "provenance": [],
      "authorship_tag": "ABX9TyMmi9baCOVERuUHXidhAOq4",
      "include_colab_link": true
    },
    "kernelspec": {
      "name": "python3",
      "display_name": "Python 3"
    },
    "language_info": {
      "name": "python"
    }
  },
  "cells": [
    {
      "cell_type": "markdown",
      "metadata": {
        "id": "view-in-github",
        "colab_type": "text"
      },
      "source": [
        "<a href=\"https://colab.research.google.com/github/hecki1210/wan2-binder-demo/blob/main/notebook.ipynb\" target=\"_parent\"><img src=\"https://colab.research.google.com/assets/colab-badge.svg\" alt=\"Open In Colab\"/></a>"
      ]
    },
    {
      "cell_type": "code",
      "execution_count": null,
      "metadata": {
        "id": "8ZPJnHWFNXoJ"
      },
      "outputs": [],
      "source": [
        "from huggingface_hub import snapshot_download\n",
        "import torch\n",
        "from transformers import AutoTokenizer, AutoModelForCausalLM\n",
        "\n",
        "# 1️⃣ Download the model (⚠️ this will likely exceed Binder limits)\n",
        "model_repo = \"QuantStack/Wan2.2-T2V-A14B-GGUF\"\n",
        "\n",
        "print(\"⬇️ Downloading model, this might take a while...\")\n",
        "model_path = snapshot_download(repo_id=model_repo)\n",
        "print(f\"✅ Model downloaded to: {model_path}\")\n",
        "\n",
        "# 2️⃣ Load model to CPU (⚠️ likely to crash due to RAM)\n",
        "print(\"🧠 Loading model to CPU...\")\n",
        "model = AutoModelForCausalLM.from_pretrained(model_path, device_map=\"cpu\")\n",
        "\n",
        "tokenizer = AutoTokenizer.from_pretrained(model_path)\n",
        "\n",
        "# 3️⃣ Run small test\n",
        "text = \"Once upon a time in India,\"\n",
        "inputs = tokenizer(text, return_tensors=\"pt\")\n",
        "\n",
        "print(\"🚀 Running inference (this may fail on Binder)...\")\n",
        "outputs = model.generate(**inputs, max_new_tokens=20)\n",
        "print(\"🗣️ Output:\", tokenizer.decode(outputs[0]))\n"
      ]
    }
  ]
}